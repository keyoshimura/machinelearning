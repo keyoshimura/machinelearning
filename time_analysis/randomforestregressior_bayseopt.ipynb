{
 "cells": [
  {
   "cell_type": "markdown",
   "metadata": {},
   "source": [
    "# kaggleのコンペで、ランダムフォレスト回帰を試してみる。\n"
   ]
  },
  {
   "cell_type": "markdown",
   "metadata": {},
   "source": [
    "[こちら](https://www.kaggle.com/dlarionov/feature-engineering-xgboost)で作成した特徴量をそのまま使って、ランダムフォレスト回帰をする"
   ]
  },
  {
   "cell_type": "code",
   "execution_count": 1,
   "metadata": {
    "collapsed": true
   },
   "outputs": [],
   "source": [
    "import pandas as pd\n",
    "import numpy as np"
   ]
  },
  {
   "cell_type": "markdown",
   "metadata": {},
   "source": [
    "# 1.データの読み込み"
   ]
  },
  {
   "cell_type": "code",
   "execution_count": 2,
   "metadata": {
    "collapsed": true
   },
   "outputs": [],
   "source": [
    "data = pd.read_pickle('./data/data.pkl')\n",
    "\n",
    "data = data[[\n",
    "    'date_block_num',\n",
    "    'shop_id',\n",
    "    'item_id',\n",
    "    'item_cnt_month',\n",
    "    'city_code',\n",
    "    'item_category_id',\n",
    "    'type_code',\n",
    "    'subtype_code',\n",
    "    'item_cnt_month_lag_1',\n",
    "    'item_cnt_month_lag_2',\n",
    "    'item_cnt_month_lag_3',\n",
    "    'item_cnt_month_lag_6',\n",
    "    'item_cnt_month_lag_12',\n",
    "    'date_avg_item_cnt_lag_1',\n",
    "    'date_item_avg_item_cnt_lag_1',\n",
    "    'date_item_avg_item_cnt_lag_2',\n",
    "    'date_item_avg_item_cnt_lag_3',\n",
    "    'date_item_avg_item_cnt_lag_6',\n",
    "    'date_item_avg_item_cnt_lag_12',\n",
    "    'date_shop_avg_item_cnt_lag_1',\n",
    "    'date_shop_avg_item_cnt_lag_2',\n",
    "    'date_shop_avg_item_cnt_lag_3',\n",
    "    'date_shop_avg_item_cnt_lag_6',\n",
    "    'date_shop_avg_item_cnt_lag_12',\n",
    "    'date_cat_avg_item_cnt_lag_1',\n",
    "    'date_shop_cat_avg_item_cnt_lag_1',\n",
    "    #'date_shop_type_avg_item_cnt_lag_1',\n",
    "    #'date_shop_subtype_avg_item_cnt_lag_1',\n",
    "    'date_city_avg_item_cnt_lag_1',\n",
    "    'date_item_city_avg_item_cnt_lag_1',\n",
    "    #'date_type_avg_item_cnt_lag_1',\n",
    "    #'date_subtype_avg_item_cnt_lag_1',\n",
    "    'delta_price_lag',\n",
    "    'month',\n",
    "    'days',\n",
    "    'item_shop_last_sale',\n",
    "    'item_last_sale',\n",
    "    'item_shop_first_sale',\n",
    "    'item_first_sale',\n",
    "]]"
   ]
  },
  {
   "cell_type": "markdown",
   "metadata": {},
   "source": [
    "# 2.データの分割"
   ]
  },
  {
   "cell_type": "code",
   "execution_count": 3,
   "metadata": {
    "collapsed": true
   },
   "outputs": [],
   "source": [
    "X_train = data[data.date_block_num < 33].drop(['item_cnt_month'], axis=1)\n",
    "Y_train = data[data.date_block_num < 33]['item_cnt_month']\n",
    "X_valid = data[data.date_block_num == 33].drop(['item_cnt_month'], axis=1)\n",
    "Y_valid = data[data.date_block_num == 33]['item_cnt_month']\n",
    "X_test = data[data.date_block_num == 34].drop(['item_cnt_month'], axis=1)"
   ]
  },
  {
   "cell_type": "code",
   "execution_count": 4,
   "metadata": {
    "collapsed": true
   },
   "outputs": [],
   "source": [
    "# ガーベージコレクションをして、メモリを整理\n",
    "import gc\n",
    "del data\n",
    "gc.collect();"
   ]
  },
  {
   "cell_type": "markdown",
   "metadata": {},
   "source": [
    "# 3.学習"
   ]
  },
  {
   "cell_type": "code",
   "execution_count": 5,
   "metadata": {},
   "outputs": [
    {
     "name": "stderr",
     "output_type": "stream",
     "text": [
      "[Parallel(n_jobs=-1)]: Done  10 out of  10 | elapsed:  1.1min finished\n"
     ]
    },
    {
     "data": {
      "text/plain": [
       "68.80450105667114"
      ]
     },
     "execution_count": 5,
     "metadata": {},
     "output_type": "execute_result"
    }
   ],
   "source": [
    "'''\n",
    "ランダムフォレスト回帰\n",
    "https://scikit-learn.org/stable/modules/generated/sklearn.ensemble.RandomForestRegressor.html\n",
    "'''\n",
    "from sklearn.ensemble import RandomForestRegressor\n",
    "import time\n",
    "\n",
    "ts = time.time()\n",
    "\n",
    "model = RandomForestRegressor(\n",
    "    n_estimators=10\n",
    "    , criterion='mse'\n",
    "    , max_depth = 15\n",
    "    , min_samples_split = 2\n",
    "    , max_features = 'sqrt' \n",
    "    , n_jobs=-1 # 全コアを利用する。\n",
    "    , verbose=1 # 学習過程を表示してほしい \n",
    "    )\n",
    "\n",
    "model.fit(X_train , Y_train)\n",
    "\n",
    "time.time() - ts"
   ]
  },
  {
   "cell_type": "markdown",
   "metadata": {},
   "source": [
    "# 4.評価\n",
    "各特徴量の重要度、推論精度を確認する"
   ]
  },
  {
   "cell_type": "code",
   "execution_count": 6,
   "metadata": {},
   "outputs": [
    {
     "name": "stdout",
     "output_type": "stream",
     "text": [
      "1   date_item_city_avg_item_cnt_lag_1   0.169148496178\n",
      "2   item_cnt_month_lag_1   0.153614655266\n",
      "3   date_item_avg_item_cnt_lag_1   0.093825630873\n",
      "4   date_shop_cat_avg_item_cnt_lag_1   0.0658612784733\n",
      "5   item_cnt_month_lag_2   0.0637362699127\n",
      "6   item_cnt_month_lag_3   0.0582840684745\n",
      "7   item_category_id   0.0407508116705\n",
      "8   date_shop_avg_item_cnt_lag_1   0.0301501835168\n",
      "9   item_first_sale   0.0238581125024\n",
      "10   date_item_avg_item_cnt_lag_3   0.0225622419311\n",
      "11   subtype_code   0.0218000240349\n",
      "12   item_cnt_month_lag_6   0.021265268575\n",
      "13   date_item_avg_item_cnt_lag_2   0.0206355178402\n",
      "14   item_id   0.0205929422938\n",
      "15   date_cat_avg_item_cnt_lag_1   0.0190969106307\n",
      "16   date_item_avg_item_cnt_lag_6   0.0182997606477\n",
      "17   type_code   0.0174217427218\n",
      "18   month   0.0167388028205\n",
      "19   delta_price_lag   0.0131948186\n",
      "20   shop_id   0.0124621644581\n",
      "21   date_shop_avg_item_cnt_lag_2   0.010127104277\n",
      "22   date_block_num   0.0100500709907\n",
      "23   item_shop_first_sale   0.00986157318752\n",
      "24   city_code   0.00925493108684\n",
      "25   date_shop_avg_item_cnt_lag_3   0.00912309967408\n",
      "26   date_city_avg_item_cnt_lag_1   0.00830207188318\n",
      "27   item_shop_last_sale   0.00754958707581\n",
      "28   date_avg_item_cnt_lag_1   0.00737833948282\n",
      "29   date_shop_avg_item_cnt_lag_6   0.00679579867923\n",
      "30   item_cnt_month_lag_12   0.00507822136316\n",
      "31   date_shop_avg_item_cnt_lag_12   0.00502847895944\n",
      "32   date_item_avg_item_cnt_lag_12   0.00493768464568\n",
      "33   days   0.00309499963999\n",
      "34   item_last_sale   0.000118337633752\n"
     ]
    },
    {
     "data": {
      "image/png": "[encoded data removed]",
      "text/plain": [
       "<matplotlib.figure.Figure at 0x116eb0c18>"
      ]
     },
     "metadata": {},
     "output_type": "display_data"
    }
   ],
   "source": [
    "#特徴量の重要度\n",
    "import matplotlib.pyplot as plt\n",
    "%matplotlib inline\n",
    "\n",
    "\n",
    "feature = model.feature_importances_\n",
    "\n",
    "#特徴量の重要度を上から順に出力する\n",
    "f = pd.DataFrame({'number': range(0, len(feature)),\n",
    "             'feature': feature[:]})\n",
    "f2 = f.sort_values('feature',ascending=False)\n",
    "f3 = f2.loc[:, 'number']\n",
    "\n",
    "#特徴量の名前\n",
    "label = X_train.columns[0:]\n",
    "\n",
    "#特徴量の重要度順（降順）\n",
    "indices = np.argsort(feature)[::-1]\n",
    "\n",
    "for i in range(len(feature)):\n",
    "    print(str(i + 1) + \"   \" + str(label[indices[i]]) + \"   \" + str(feature[indices[i]]))\n",
    "\n",
    "plt.title('Feature Importance')\n",
    "plt.bar(range(len(feature)),feature[indices], color='lightblue', align='center')\n",
    "plt.xticks(range(len(feature)), label[indices], rotation=90)\n",
    "plt.xlim([-1, len(feature)])\n",
    "plt.tight_layout()\n",
    "plt.show()"
   ]
  },
  {
   "cell_type": "code",
   "execution_count": 7,
   "metadata": {},
   "outputs": [
    {
     "name": "stderr",
     "output_type": "stream",
     "text": [
      "[Parallel(n_jobs=4)]: Done  10 out of  10 | elapsed:    2.3s finished\n"
     ]
    },
    {
     "name": "stdout",
     "output_type": "stream",
     "text": [
      "train:0.6075665842458582\n",
      "val:0.3606105899057156\n"
     ]
    },
    {
     "name": "stderr",
     "output_type": "stream",
     "text": [
      "[Parallel(n_jobs=4)]: Done  10 out of  10 | elapsed:    0.1s finished\n"
     ]
    }
   ],
   "source": [
    "# 評価指標を確認（1に近い方がいい）\n",
    "print('train:{}'.format(model.score(X_train, Y_train)))\n",
    "print('val:{}'.format(model.score(X_valid, Y_valid)))\n"
   ]
  },
  {
   "cell_type": "markdown",
   "metadata": {},
   "source": [
    "# 5.ベイズ最適化\n",
    "\n",
    "[こちら](https://www.kumilog.net/entry/bayesian-optimization)を参考に"
   ]
  },
  {
   "cell_type": "code",
   "execution_count": 8,
   "metadata": {},
   "outputs": [
    {
     "name": "stdout",
     "output_type": "stream",
     "text": [
      "Solving environment: done\n",
      "\n",
      "\n",
      "==> WARNING: A newer version of conda exists. <==\n",
      "  current version: 4.5.11\n",
      "  latest version: 4.5.12\n",
      "\n",
      "Please update conda by running\n",
      "\n",
      "    $ conda update -n base -c defaults conda\n",
      "\n",
      "\n",
      "\n",
      "## Package Plan ##\n",
      "\n",
      "  environment location: /anaconda3\n",
      "\n",
      "  added / updated specs: \n",
      "    - scikit-optimize\n",
      "\n",
      "\n",
      "The following packages will be downloaded:\n",
      "\n",
      "    package                    |            build\n",
      "    ---------------------------|-----------------\n",
      "    scipy-1.0.0                |   py36h1de22e9_0        15.0 MB\n",
      "    conda-4.5.12               |        py36_1000         655 KB  conda-forge\n",
      "    scikit-optimize-0.5.2      |             py_0          51 KB  conda-forge\n",
      "    ca-certificates-2018.11.29 |       ha4d7672_0         143 KB  conda-forge\n",
      "    openssl-1.0.2p             |       h470a237_2         2.9 MB  conda-forge\n",
      "    certifi-2018.11.29         |        py36_1000         145 KB  conda-forge\n",
      "    numpy-1.14.2               |   py36ha9ae307_0         3.9 MB\n",
      "    matplotlib-2.2.2           |           py36_1         6.7 MB  conda-forge\n",
      "    kiwisolver-1.0.1           |   py36h2d50403_2          65 KB  conda-forge\n",
      "    ------------------------------------------------------------\n",
      "                                           Total:        29.5 MB\n",
      "\n",
      "The following NEW packages will be INSTALLED:\n",
      "\n",
      "    blas:            1.0-mkl                               \n",
      "    kiwisolver:      1.0.1-py36h2d50403_2       conda-forge\n",
      "    scikit-optimize: 0.5.2-py_0                 conda-forge\n",
      "\n",
      "The following packages will be UPDATED:\n",
      "\n",
      "    ca-certificates: 2017.08.26-ha1e5d58_0                  --> 2018.11.29-ha4d7672_0 conda-forge\n",
      "    certifi:         2017.7.27.1-py36hd973bb6_0             --> 2018.11.29-py36_1000  conda-forge\n",
      "    conda:           4.5.11-py36_0                          --> 4.5.12-py36_1000      conda-forge\n",
      "    matplotlib:      2.1.0-py36h5068139_0                   --> 2.2.2-py36_1          conda-forge\n",
      "    numpy:           1.13.3-py36h2cdce51_0                  --> 1.14.2-py36ha9ae307_0            \n",
      "    openssl:         1.0.2l-h57f3a61_2                      --> 1.0.2p-h470a237_2     conda-forge\n",
      "    scipy:           0.19.1-py36h3e758e1_3                  --> 1.0.0-py36h1de22e9_0             \n",
      "\n",
      "\n",
      "Downloading and Extracting Packages\n",
      "scipy-1.0.0          | 15.0 MB   | ##################################### | 100% \n",
      "conda-4.5.12         | 655 KB    | ##################################### | 100% \n",
      "scikit-optimize-0.5. | 51 KB     | ##################################### | 100% \n",
      "ca-certificates-2018 | 143 KB    | ##################################### | 100% \n",
      "openssl-1.0.2p       | 2.9 MB    | ##################################### | 100% \n",
      "certifi-2018.11.29   | 145 KB    | ##################################### | 100% \n",
      "numpy-1.14.2         | 3.9 MB    | ##################################### | 100% \n",
      "matplotlib-2.2.2     | 6.7 MB    | ##################################### | 100% \n",
      "kiwisolver-1.0.1     | 65 KB     | ##################################### | 100% \n",
      "Preparing transaction: done\n",
      "Verifying transaction: done\n",
      "Executing transaction: done\n"
     ]
    }
   ],
   "source": [
    "!conda install -c conda-forge scikit-optimize --yes"
   ]
  },
  {
   "cell_type": "code",
   "execution_count": 20,
   "metadata": {},
   "outputs": [],
   "source": [
    "# ベイズ最適化のパラメータと関数を指定\n",
    "\n",
    "# 探索範囲の指定\n",
    "spaces = [\n",
    "    (2, 5) # n_estimators\n",
    "    , (3, 10) # max_depth\n",
    "    , ['sqrt', 'log2'] # max_features\n",
    "    # ['linear', 'poly', 'rbf']\n",
    "]\n",
    "\n",
    "# ブラックボックス関数\n",
    "def f(x):\n",
    "    model = RandomForestRegressor(\n",
    "        n_estimators=x[0]\n",
    "        , criterion='mse'\n",
    "        , max_depth = x[1]\n",
    "        , min_samples_split = 2\n",
    "        , max_features = x[2] \n",
    "        , n_jobs=-1 # 全コアを利用する。\n",
    "    )\n",
    "    model.fit(X_train, Y_train)\n",
    "    return -1 * model.score(X_valid, Y_valid) # gp_minimizeでは最小化をするので、負の値にしておく。\n"
   ]
  },
  {
   "cell_type": "code",
   "execution_count": 23,
   "metadata": {},
   "outputs": [],
   "source": [
    "# ベイズ最適化を実行\n",
    "# https://scikit-optimize.github.io/notebooks/bayesian-optimization.html\n",
    "\n",
    "from skopt import gp_minimize\n",
    "res = gp_minimize(\n",
    "    f \n",
    "    , spaces\n",
    "    , acq_func=\"LCB\" # 分散が大きいパラメータも探索してほしいので、「LCB」を指定\n",
    "    , n_calls=10 # 試行回数\n",
    "    , verbose=True\n",
    "    , n_jobs=-1\n",
    ")"
   ]
  },
  {
   "cell_type": "code",
   "execution_count": 24,
   "metadata": {},
   "outputs": [
    {
     "data": {
      "text/plain": [
       "<matplotlib.axes._subplots.AxesSubplot at 0x10f803c88>"
      ]
     },
     "execution_count": 24,
     "metadata": {},
     "output_type": "execute_result"
    },
    {
     "data": {
      "image/png": "[encoded data removed]",
      "text/plain": [
       "<matplotlib.figure.Figure at 0x10f7bd550>"
      ]
     },
     "metadata": {},
     "output_type": "display_data"
    }
   ],
   "source": [
    "# 試行回数と評価指標の関係を可視化\n",
    "\n",
    "from skopt.plots import plot_convergence\n",
    "plot_convergence(res)"
   ]
  },
  {
   "cell_type": "code",
   "execution_count": 46,
   "metadata": {},
   "outputs": [
    {
     "name": "stdout",
     "output_type": "stream",
     "text": [
      "best_hyperparam:[4, 9, 'log2']\n",
      "best_score:-0.3179080059170447\n"
     ]
    }
   ],
   "source": [
    "# 最良の結果の時のパラメータ\n",
    "\n",
    "print('best_hyperparam:{}'.format(res.x))\n",
    "print('best_score:{}'.format(res.fun))"
   ]
  },
  {
   "cell_type": "code",
   "execution_count": 48,
   "metadata": {},
   "outputs": [
    {
     "data": {
      "text/plain": [
       "RandomForestRegressor(bootstrap=True, criterion='mse', max_depth=9,\n",
       "           max_features='log2', max_leaf_nodes=None,\n",
       "           min_impurity_decrease=0.0, min_impurity_split=None,\n",
       "           min_samples_leaf=1, min_samples_split=2,\n",
       "           min_weight_fraction_leaf=0.0, n_estimators=4, n_jobs=-1,\n",
       "           oob_score=False, random_state=None, verbose=0, warm_start=False)"
      ]
     },
     "execution_count": 48,
     "metadata": {},
     "output_type": "execute_result"
    }
   ],
   "source": [
    "# 最良の結果で学習し直し。\n",
    "# 「model」には、最後の学習時の結果が残っているので再学習が必要\n",
    "\n",
    "model = RandomForestRegressor(\n",
    "    n_estimators=4\n",
    "    , criterion='mse'\n",
    "    , max_depth = 9\n",
    "    , min_samples_split = 2\n",
    "    , max_features = 'log2' \n",
    "    , n_jobs=-1 # 全コアを利用する。\n",
    ")\n",
    "model.fit(X_train, Y_train)\n"
   ]
  },
  {
   "cell_type": "markdown",
   "metadata": {},
   "source": [
    "# 6.サブミッション用に整形"
   ]
  },
  {
   "cell_type": "code",
   "execution_count": 49,
   "metadata": {},
   "outputs": [],
   "source": [
    "import pickle\n",
    "\n",
    "test  = pd.read_csv('./data/test.csv.gz', compression='gzip').set_index('ID')\n",
    "\n",
    "Y_pred = model.predict(X_valid).clip(0, 20)\n",
    "Y_test = model.predict(X_test).clip(0, 20)\n",
    "\n",
    "submission = pd.DataFrame({\n",
    "    \"ID\": test.index, \n",
    "    \"item_cnt_month\": Y_test\n",
    "})\n",
    "submission.to_csv('rfr_submission.csv', index=False)\n",
    "\n",
    "# save predictions for an ensemble\n",
    "pickle.dump(Y_pred, open('xgb_train.pickle', 'wb'))\n",
    "pickle.dump(Y_test, open('xgb_test.pickle', 'wb'))"
   ]
  },
  {
   "cell_type": "code",
   "execution_count": null,
   "metadata": {
    "collapsed": true
   },
   "outputs": [],
   "source": []
  }
 ],
 "metadata": {
  "kernelspec": {
   "display_name": "tensorflow",
   "language": "python",
   "name": "tensorflow"
  },
  "language_info": {
   "codemirror_mode": {
    "name": "ipython",
    "version": 3
   },
   "file_extension": ".py",
   "mimetype": "text/x-python",
   "name": "python",
   "nbconvert_exporter": "python",
   "pygments_lexer": "ipython3",
   "version": "3.6.3"
  }
 },
 "nbformat": 4,
 "nbformat_minor": 2
}

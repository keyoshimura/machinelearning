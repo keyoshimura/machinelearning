{
 "cells": [
  {
   "cell_type": "code",
   "execution_count": null,
   "metadata": {
    "collapsed": true
   },
   "outputs": [],
   "source": [
    "\"\"\"XGBOOSTについて\n",
    "\n",
    "・特徴と理論の概要\n",
    "https://qiita.com/yh0sh/items/1df89b12a8dcd15bd5aa\n",
    "\n",
    "\n",
    "・論文\n",
    "https://arxiv.org/abs/1603.02754\n",
    "\n",
    "\"\"\""
   ]
  },
  {
   "cell_type": "code",
   "execution_count": null,
   "metadata": {
    "collapsed": true
   },
   "outputs": [],
   "source": [
    "XGBoostはGitからインストールしないといけないみたいですね...。\n",
    "\n",
    "ちょっと面倒臭いので保留にします。\n",
    "（sklearn.ensemble.GradientBoostingClassifierと何が違うのかもまだよくわかっていないの...）\n"
   ]
  }
 ],
 "metadata": {
  "kernelspec": {
   "display_name": "Python 3",
   "language": "python",
   "name": "python3"
  },
  "language_info": {
   "codemirror_mode": {
    "name": "ipython",
    "version": 3
   },
   "file_extension": ".py",
   "mimetype": "text/x-python",
   "name": "python",
   "nbconvert_exporter": "python",
   "pygments_lexer": "ipython3",
   "version": "3.6.1"
  }
 },
 "nbformat": 4,
 "nbformat_minor": 2
}
